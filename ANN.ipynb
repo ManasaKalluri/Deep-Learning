{
 "cells": [
  {
   "cell_type": "markdown",
   "metadata": {},
   "source": [
    "# Data Preprocessing"
   ]
  },
  {
   "cell_type": "markdown",
   "metadata": {},
   "source": [
    "Importing Libraries"
   ]
  },
  {
   "cell_type": "code",
   "execution_count": 1,
   "metadata": {},
   "outputs": [],
   "source": [
    "import pandas as pd\n",
    "import numpy as np\n",
    "import tensorflow as tf"
   ]
  },
  {
   "cell_type": "code",
   "execution_count": 2,
   "metadata": {},
   "outputs": [
    {
     "data": {
      "text/plain": [
       "'2.3.0'"
      ]
     },
     "execution_count": 2,
     "metadata": {},
     "output_type": "execute_result"
    }
   ],
   "source": [
    "tf.__version__   ##Displays version of tensorflow we are using"
   ]
  },
  {
   "cell_type": "code",
   "execution_count": 3,
   "metadata": {},
   "outputs": [
    {
     "data": {
      "text/html": [
       "<div>\n",
       "<style scoped>\n",
       "    .dataframe tbody tr th:only-of-type {\n",
       "        vertical-align: middle;\n",
       "    }\n",
       "\n",
       "    .dataframe tbody tr th {\n",
       "        vertical-align: top;\n",
       "    }\n",
       "\n",
       "    .dataframe thead th {\n",
       "        text-align: right;\n",
       "    }\n",
       "</style>\n",
       "<table border=\"1\" class=\"dataframe\">\n",
       "  <thead>\n",
       "    <tr style=\"text-align: right;\">\n",
       "      <th></th>\n",
       "      <th>RowNumber</th>\n",
       "      <th>CustomerId</th>\n",
       "      <th>Surname</th>\n",
       "      <th>CreditScore</th>\n",
       "      <th>Geography</th>\n",
       "      <th>Gender</th>\n",
       "      <th>Age</th>\n",
       "      <th>Tenure</th>\n",
       "      <th>Balance</th>\n",
       "      <th>NumOfProducts</th>\n",
       "      <th>HasCrCard</th>\n",
       "      <th>IsActiveMember</th>\n",
       "      <th>EstimatedSalary</th>\n",
       "      <th>Exited</th>\n",
       "    </tr>\n",
       "  </thead>\n",
       "  <tbody>\n",
       "    <tr>\n",
       "      <th>0</th>\n",
       "      <td>1</td>\n",
       "      <td>15634602</td>\n",
       "      <td>Hargrave</td>\n",
       "      <td>619</td>\n",
       "      <td>France</td>\n",
       "      <td>Female</td>\n",
       "      <td>42</td>\n",
       "      <td>2</td>\n",
       "      <td>0.00</td>\n",
       "      <td>1</td>\n",
       "      <td>1</td>\n",
       "      <td>1</td>\n",
       "      <td>101348.88</td>\n",
       "      <td>1</td>\n",
       "    </tr>\n",
       "    <tr>\n",
       "      <th>1</th>\n",
       "      <td>2</td>\n",
       "      <td>15647311</td>\n",
       "      <td>Hill</td>\n",
       "      <td>608</td>\n",
       "      <td>Spain</td>\n",
       "      <td>Female</td>\n",
       "      <td>41</td>\n",
       "      <td>1</td>\n",
       "      <td>83807.86</td>\n",
       "      <td>1</td>\n",
       "      <td>0</td>\n",
       "      <td>1</td>\n",
       "      <td>112542.58</td>\n",
       "      <td>0</td>\n",
       "    </tr>\n",
       "    <tr>\n",
       "      <th>2</th>\n",
       "      <td>3</td>\n",
       "      <td>15619304</td>\n",
       "      <td>Onio</td>\n",
       "      <td>502</td>\n",
       "      <td>France</td>\n",
       "      <td>Female</td>\n",
       "      <td>42</td>\n",
       "      <td>8</td>\n",
       "      <td>159660.80</td>\n",
       "      <td>3</td>\n",
       "      <td>1</td>\n",
       "      <td>0</td>\n",
       "      <td>113931.57</td>\n",
       "      <td>1</td>\n",
       "    </tr>\n",
       "    <tr>\n",
       "      <th>3</th>\n",
       "      <td>4</td>\n",
       "      <td>15701354</td>\n",
       "      <td>Boni</td>\n",
       "      <td>699</td>\n",
       "      <td>France</td>\n",
       "      <td>Female</td>\n",
       "      <td>39</td>\n",
       "      <td>1</td>\n",
       "      <td>0.00</td>\n",
       "      <td>2</td>\n",
       "      <td>0</td>\n",
       "      <td>0</td>\n",
       "      <td>93826.63</td>\n",
       "      <td>0</td>\n",
       "    </tr>\n",
       "    <tr>\n",
       "      <th>4</th>\n",
       "      <td>5</td>\n",
       "      <td>15737888</td>\n",
       "      <td>Mitchell</td>\n",
       "      <td>850</td>\n",
       "      <td>Spain</td>\n",
       "      <td>Female</td>\n",
       "      <td>43</td>\n",
       "      <td>2</td>\n",
       "      <td>125510.82</td>\n",
       "      <td>1</td>\n",
       "      <td>1</td>\n",
       "      <td>1</td>\n",
       "      <td>79084.10</td>\n",
       "      <td>0</td>\n",
       "    </tr>\n",
       "  </tbody>\n",
       "</table>\n",
       "</div>"
      ],
      "text/plain": [
       "   RowNumber  CustomerId   Surname  CreditScore Geography  Gender  Age  \\\n",
       "0          1    15634602  Hargrave          619    France  Female   42   \n",
       "1          2    15647311      Hill          608     Spain  Female   41   \n",
       "2          3    15619304      Onio          502    France  Female   42   \n",
       "3          4    15701354      Boni          699    France  Female   39   \n",
       "4          5    15737888  Mitchell          850     Spain  Female   43   \n",
       "\n",
       "   Tenure    Balance  NumOfProducts  HasCrCard  IsActiveMember  \\\n",
       "0       2       0.00              1          1               1   \n",
       "1       1   83807.86              1          0               1   \n",
       "2       8  159660.80              3          1               0   \n",
       "3       1       0.00              2          0               0   \n",
       "4       2  125510.82              1          1               1   \n",
       "\n",
       "   EstimatedSalary  Exited  \n",
       "0        101348.88       1  \n",
       "1        112542.58       0  \n",
       "2        113931.57       1  \n",
       "3         93826.63       0  \n",
       "4         79084.10       0  "
      ]
     },
     "execution_count": 3,
     "metadata": {},
     "output_type": "execute_result"
    }
   ],
   "source": [
    "dataset = pd.read_csv(r'data\\Churn_Modelling.csv')\n",
    "x= dataset.iloc[:,3:-1].values\n",
    "y= dataset.iloc[:, -1].values\n",
    "dataset.head()"
   ]
  },
  {
   "cell_type": "markdown",
   "metadata": {},
   "source": [
    "# Encoding Categorical data"
   ]
  },
  {
   "cell_type": "markdown",
   "metadata": {},
   "source": [
    "Label Encoding Gender Column"
   ]
  },
  {
   "cell_type": "code",
   "execution_count": 4,
   "metadata": {},
   "outputs": [
    {
     "name": "stdout",
     "output_type": "stream",
     "text": [
      "[[619 'France' 0 ... 1 1 101348.88]\n",
      " [608 'Spain' 0 ... 0 1 112542.58]\n",
      " [502 'France' 0 ... 1 0 113931.57]\n",
      " ...\n",
      " [709 'France' 0 ... 0 1 42085.58]\n",
      " [772 'Germany' 1 ... 1 0 92888.52]\n",
      " [792 'France' 0 ... 1 0 38190.78]]\n"
     ]
    }
   ],
   "source": [
    "from sklearn.preprocessing import LabelEncoder\n",
    "Le = LabelEncoder()\n",
    "x[:, 2] = Le.fit_transform(x[:, 2])\n",
    "print(x)"
   ]
  },
  {
   "cell_type": "markdown",
   "metadata": {},
   "source": [
    "Onehotencoding for Geography column"
   ]
  },
  {
   "cell_type": "code",
   "execution_count": 5,
   "metadata": {},
   "outputs": [
    {
     "name": "stdout",
     "output_type": "stream",
     "text": [
      "[[1.0 0.0 0.0 ... 1 1 101348.88]\n",
      " [0.0 0.0 1.0 ... 0 1 112542.58]\n",
      " [1.0 0.0 0.0 ... 1 0 113931.57]\n",
      " ...\n",
      " [1.0 0.0 0.0 ... 0 1 42085.58]\n",
      " [0.0 1.0 0.0 ... 1 0 92888.52]\n",
      " [1.0 0.0 0.0 ... 1 0 38190.78]]\n"
     ]
    }
   ],
   "source": [
    "from sklearn.preprocessing import OneHotEncoder\n",
    "from sklearn.compose import ColumnTransformer\n",
    "ct = ColumnTransformer(transformers=[('encoder', OneHotEncoder(), [1])], remainder='passthrough')  #Just change the column number which has to be transformed\n",
    "x = np.array(ct.fit_transform(x))\n",
    "print(x)"
   ]
  },
  {
   "cell_type": "markdown",
   "metadata": {},
   "source": [
    "# Split training and test set"
   ]
  },
  {
   "cell_type": "code",
   "execution_count": 6,
   "metadata": {},
   "outputs": [],
   "source": [
    "from sklearn.model_selection import train_test_split\n",
    "x_train, x_test, y_train, y_test = train_test_split(x, y, test_size = 0.2, random_state = 1)"
   ]
  },
  {
   "cell_type": "markdown",
   "metadata": {},
   "source": [
    "# Feature Scaling"
   ]
  },
  {
   "cell_type": "code",
   "execution_count": 7,
   "metadata": {},
   "outputs": [],
   "source": [
    "from sklearn.preprocessing import StandardScaler\n",
    "sc = StandardScaler()\n",
    "x_train= sc.fit_transform(x_train)\n",
    "x_test = sc.transform(x_test)"
   ]
  },
  {
   "cell_type": "markdown",
   "metadata": {},
   "source": [
    "# Building ANN"
   ]
  },
  {
   "cell_type": "markdown",
   "metadata": {},
   "source": [
    "Initializing ANN"
   ]
  },
  {
   "cell_type": "code",
   "execution_count": 8,
   "metadata": {},
   "outputs": [],
   "source": [
    "ann = tf.keras.models.Sequential()   #Tensorflow 2.0 version has keras integrated. First call tensorflow and then keras library, models module and then sequential class"
   ]
  },
  {
   "cell_type": "markdown",
   "metadata": {},
   "source": [
    "Adding input and first hidden layer"
   ]
  },
  {
   "cell_type": "code",
   "execution_count": 9,
   "metadata": {},
   "outputs": [],
   "source": [
    "ann.add(tf.keras.layers.Dense(units=6, activation='relu'))  # Because add is method, use braces to call dense class. relu - rectifier activation func"
   ]
  },
  {
   "cell_type": "markdown",
   "metadata": {},
   "source": [
    "Adding second hidden layer"
   ]
  },
  {
   "cell_type": "code",
   "execution_count": 10,
   "metadata": {},
   "outputs": [],
   "source": [
    "ann.add(tf.keras.layers.Dense(units=6, activation='relu')) "
   ]
  },
  {
   "cell_type": "markdown",
   "metadata": {},
   "source": [
    "Adding output layer"
   ]
  },
  {
   "cell_type": "code",
   "execution_count": 11,
   "metadata": {},
   "outputs": [],
   "source": [
    "ann.add(tf.keras.layers.Dense(units=1, activation='sigmoid')) #Number of units of ouput layer depends on output variable dimensions. Here as output is binary, we can take unit as 1"
   ]
  },
  {
   "cell_type": "markdown",
   "metadata": {},
   "source": [
    "# Training ANN"
   ]
  },
  {
   "cell_type": "markdown",
   "metadata": {},
   "source": [
    "Compiling ANN #with activation function and loss function i.e., optimiser and metric"
   ]
  },
  {
   "cell_type": "code",
   "execution_count": 12,
   "metadata": {},
   "outputs": [],
   "source": [
    "ann.compile(optimizer='adam', loss = 'binary_crossentropy', metrics = ['accuracy']) #Mentioning optimizer, loss function, metrics"
   ]
  },
  {
   "cell_type": "markdown",
   "metadata": {},
   "source": [
    "Training ANN on training set"
   ]
  },
  {
   "cell_type": "code",
   "execution_count": 13,
   "metadata": {},
   "outputs": [
    {
     "name": "stdout",
     "output_type": "stream",
     "text": [
      "Epoch 1/100\n",
      "250/250 [==============================] - 0s 885us/step - loss: 0.5450 - accuracy: 0.7763\n",
      "Epoch 2/100\n",
      "250/250 [==============================] - 0s 862us/step - loss: 0.4767 - accuracy: 0.7972\n",
      "Epoch 3/100\n",
      "250/250 [==============================] - 0s 870us/step - loss: 0.4532 - accuracy: 0.7972\n",
      "Epoch 4/100\n",
      "250/250 [==============================] - 0s 886us/step - loss: 0.4392 - accuracy: 0.7983\n",
      "Epoch 5/100\n",
      "250/250 [==============================] - 0s 806us/step - loss: 0.4307 - accuracy: 0.8085\n",
      "Epoch 6/100\n",
      "250/250 [==============================] - 0s 865us/step - loss: 0.4240 - accuracy: 0.8209\n",
      "Epoch 7/100\n",
      "250/250 [==============================] - 0s 802us/step - loss: 0.4192 - accuracy: 0.8255\n",
      "Epoch 8/100\n",
      "250/250 [==============================] - 0s 779us/step - loss: 0.4156 - accuracy: 0.8288\n",
      "Epoch 9/100\n",
      "250/250 [==============================] - 0s 782us/step - loss: 0.4128 - accuracy: 0.8311\n",
      "Epoch 10/100\n",
      "250/250 [==============================] - 0s 805us/step - loss: 0.4104 - accuracy: 0.8334\n",
      "Epoch 11/100\n",
      "250/250 [==============================] - 0s 849us/step - loss: 0.4081 - accuracy: 0.8336\n",
      "Epoch 12/100\n",
      "250/250 [==============================] - 0s 876us/step - loss: 0.4067 - accuracy: 0.8334\n",
      "Epoch 13/100\n",
      "250/250 [==============================] - 0s 827us/step - loss: 0.4053 - accuracy: 0.8326\n",
      "Epoch 14/100\n",
      "250/250 [==============================] - 0s 832us/step - loss: 0.4044 - accuracy: 0.8338\n",
      "Epoch 15/100\n",
      "250/250 [==============================] - 0s 814us/step - loss: 0.4036 - accuracy: 0.8344\n",
      "Epoch 16/100\n",
      "250/250 [==============================] - 0s 863us/step - loss: 0.4025 - accuracy: 0.8342\n",
      "Epoch 17/100\n",
      "250/250 [==============================] - 0s 915us/step - loss: 0.4018 - accuracy: 0.8342\n",
      "Epoch 18/100\n",
      "250/250 [==============================] - 0s 1ms/step - loss: 0.4013 - accuracy: 0.8349\n",
      "Epoch 19/100\n",
      "250/250 [==============================] - 0s 703us/step - loss: 0.4005 - accuracy: 0.8364\n",
      "Epoch 20/100\n",
      "250/250 [==============================] - 0s 934us/step - loss: 0.3998 - accuracy: 0.8355\n",
      "Epoch 21/100\n",
      "250/250 [==============================] - 0s 850us/step - loss: 0.3997 - accuracy: 0.8360\n",
      "Epoch 22/100\n",
      "250/250 [==============================] - 0s 933us/step - loss: 0.3988 - accuracy: 0.8357\n",
      "Epoch 23/100\n",
      "250/250 [==============================] - 0s 710us/step - loss: 0.3984 - accuracy: 0.8357\n",
      "Epoch 24/100\n",
      "250/250 [==============================] - 0s 894us/step - loss: 0.3978 - accuracy: 0.8367\n",
      "Epoch 25/100\n",
      "250/250 [==============================] - 0s 708us/step - loss: 0.3975 - accuracy: 0.8356\n",
      "Epoch 26/100\n",
      "250/250 [==============================] - 0s 813us/step - loss: 0.3968 - accuracy: 0.8375\n",
      "Epoch 27/100\n",
      "250/250 [==============================] - 0s 961us/step - loss: 0.3961 - accuracy: 0.8365\n",
      "Epoch 28/100\n",
      "250/250 [==============================] - 0s 674us/step - loss: 0.3963 - accuracy: 0.8365\n",
      "Epoch 29/100\n",
      "250/250 [==============================] - 0s 766us/step - loss: 0.3957 - accuracy: 0.8372\n",
      "Epoch 30/100\n",
      "250/250 [==============================] - 0s 973us/step - loss: 0.3953 - accuracy: 0.8378\n",
      "Epoch 31/100\n",
      "250/250 [==============================] - 0s 730us/step - loss: 0.3950 - accuracy: 0.8369\n",
      "Epoch 32/100\n",
      "250/250 [==============================] - 0s 870us/step - loss: 0.3950 - accuracy: 0.8372\n",
      "Epoch 33/100\n",
      "250/250 [==============================] - 0s 910us/step - loss: 0.3947 - accuracy: 0.8371\n",
      "Epoch 34/100\n",
      "250/250 [==============================] - 0s 718us/step - loss: 0.3944 - accuracy: 0.8363\n",
      "Epoch 35/100\n",
      "250/250 [==============================] - 0s 941us/step - loss: 0.3942 - accuracy: 0.8371\n",
      "Epoch 36/100\n",
      "250/250 [==============================] - 0s 763us/step - loss: 0.3939 - accuracy: 0.8372\n",
      "Epoch 37/100\n",
      "250/250 [==============================] - 0s 892us/step - loss: 0.3939 - accuracy: 0.8384\n",
      "Epoch 38/100\n",
      "250/250 [==============================] - 0s 897us/step - loss: 0.3937 - accuracy: 0.8364\n",
      "Epoch 39/100\n",
      "250/250 [==============================] - 0s 838us/step - loss: 0.3931 - accuracy: 0.8388\n",
      "Epoch 40/100\n",
      "250/250 [==============================] - 0s 843us/step - loss: 0.3933 - accuracy: 0.8378\n",
      "Epoch 41/100\n",
      "250/250 [==============================] - 0s 854us/step - loss: 0.3930 - accuracy: 0.8393\n",
      "Epoch 42/100\n",
      "250/250 [==============================] - 0s 894us/step - loss: 0.3928 - accuracy: 0.8384\n",
      "Epoch 43/100\n",
      "250/250 [==============================] - 0s 806us/step - loss: 0.3930 - accuracy: 0.8375\n",
      "Epoch 44/100\n",
      "250/250 [==============================] - 0s 746us/step - loss: 0.3929 - accuracy: 0.8370\n",
      "Epoch 45/100\n",
      "250/250 [==============================] - 0s 783us/step - loss: 0.3925 - accuracy: 0.8386\n",
      "Epoch 46/100\n",
      "250/250 [==============================] - 0s 782us/step - loss: 0.3929 - accuracy: 0.8378\n",
      "Epoch 47/100\n",
      "250/250 [==============================] - 0s 886us/step - loss: 0.3925 - accuracy: 0.8372\n",
      "Epoch 48/100\n",
      "250/250 [==============================] - 0s 866us/step - loss: 0.3923 - accuracy: 0.8391\n",
      "Epoch 49/100\n",
      "250/250 [==============================] - 0s 778us/step - loss: 0.3922 - accuracy: 0.8381\n",
      "Epoch 50/100\n",
      "250/250 [==============================] - 0s 941us/step - loss: 0.3920 - accuracy: 0.8390\n",
      "Epoch 51/100\n",
      "250/250 [==============================] - 0s 873us/step - loss: 0.3923 - accuracy: 0.8381\n",
      "Epoch 52/100\n",
      "250/250 [==============================] - 0s 963us/step - loss: 0.3917 - accuracy: 0.8395\n",
      "Epoch 53/100\n",
      "250/250 [==============================] - 0s 936us/step - loss: 0.3919 - accuracy: 0.8376\n",
      "Epoch 54/100\n",
      "250/250 [==============================] - 0s 793us/step - loss: 0.3915 - accuracy: 0.8379\n",
      "Epoch 55/100\n",
      "250/250 [==============================] - 0s 833us/step - loss: 0.3919 - accuracy: 0.8384\n",
      "Epoch 56/100\n",
      "250/250 [==============================] - 0s 787us/step - loss: 0.3917 - accuracy: 0.8405\n",
      "Epoch 57/100\n",
      "250/250 [==============================] - 0s 840us/step - loss: 0.3916 - accuracy: 0.8395\n",
      "Epoch 58/100\n",
      "250/250 [==============================] - 0s 837us/step - loss: 0.3914 - accuracy: 0.8401\n",
      "Epoch 59/100\n",
      "250/250 [==============================] - 0s 709us/step - loss: 0.3915 - accuracy: 0.8388\n",
      "Epoch 60/100\n",
      "250/250 [==============================] - 0s 816us/step - loss: 0.3908 - accuracy: 0.8390\n",
      "Epoch 61/100\n",
      "250/250 [==============================] - 0s 736us/step - loss: 0.3911 - accuracy: 0.8400\n",
      "Epoch 62/100\n",
      "250/250 [==============================] - 0s 883us/step - loss: 0.3910 - accuracy: 0.8397\n",
      "Epoch 63/100\n",
      "250/250 [==============================] - 0s 848us/step - loss: 0.3909 - accuracy: 0.8396\n",
      "Epoch 64/100\n",
      "250/250 [==============================] - 0s 947us/step - loss: 0.3906 - accuracy: 0.8390\n",
      "Epoch 65/100\n",
      "250/250 [==============================] - 0s 742us/step - loss: 0.3905 - accuracy: 0.8404\n",
      "Epoch 66/100\n",
      "250/250 [==============================] - 0s 666us/step - loss: 0.3906 - accuracy: 0.8390\n",
      "Epoch 67/100\n",
      "250/250 [==============================] - 0s 765us/step - loss: 0.3903 - accuracy: 0.8406\n",
      "Epoch 68/100\n",
      "250/250 [==============================] - 0s 824us/step - loss: 0.3903 - accuracy: 0.8403\n",
      "Epoch 69/100\n",
      "250/250 [==============================] - 0s 830us/step - loss: 0.3899 - accuracy: 0.8405\n",
      "Epoch 70/100\n",
      "250/250 [==============================] - 0s 822us/step - loss: 0.3897 - accuracy: 0.8399\n",
      "Epoch 71/100\n",
      "250/250 [==============================] - 0s 802us/step - loss: 0.3890 - accuracy: 0.8414\n",
      "Epoch 72/100\n",
      "250/250 [==============================] - 0s 835us/step - loss: 0.3888 - accuracy: 0.8418\n",
      "Epoch 73/100\n",
      "250/250 [==============================] - 0s 879us/step - loss: 0.3884 - accuracy: 0.8413\n",
      "Epoch 74/100\n",
      "250/250 [==============================] - 0s 893us/step - loss: 0.3880 - accuracy: 0.8411\n",
      "Epoch 75/100\n",
      "250/250 [==============================] - 0s 801us/step - loss: 0.3873 - accuracy: 0.8421\n",
      "Epoch 76/100\n",
      "250/250 [==============================] - 0s 817us/step - loss: 0.3872 - accuracy: 0.8432\n",
      "Epoch 77/100\n",
      "250/250 [==============================] - 0s 847us/step - loss: 0.3862 - accuracy: 0.8425\n",
      "Epoch 78/100\n",
      "250/250 [==============================] - 0s 915us/step - loss: 0.3852 - accuracy: 0.8424\n",
      "Epoch 79/100\n"
     ]
    },
    {
     "name": "stdout",
     "output_type": "stream",
     "text": [
      "250/250 [==============================] - 0s 906us/step - loss: 0.3843 - accuracy: 0.8440\n",
      "Epoch 80/100\n",
      "250/250 [==============================] - 0s 762us/step - loss: 0.3830 - accuracy: 0.8428\n",
      "Epoch 81/100\n",
      "250/250 [==============================] - 0s 799us/step - loss: 0.3815 - accuracy: 0.8450\n",
      "Epoch 82/100\n",
      "250/250 [==============================] - 0s 749us/step - loss: 0.3797 - accuracy: 0.8444\n",
      "Epoch 83/100\n",
      "250/250 [==============================] - 0s 820us/step - loss: 0.3774 - accuracy: 0.8466\n",
      "Epoch 84/100\n",
      "250/250 [==============================] - 0s 904us/step - loss: 0.3740 - accuracy: 0.8476\n",
      "Epoch 85/100\n",
      "250/250 [==============================] - 0s 814us/step - loss: 0.3702 - accuracy: 0.8490\n",
      "Epoch 86/100\n",
      "250/250 [==============================] - 0s 867us/step - loss: 0.3657 - accuracy: 0.8524\n",
      "Epoch 87/100\n",
      "250/250 [==============================] - 0s 854us/step - loss: 0.3606 - accuracy: 0.8525\n",
      "Epoch 88/100\n",
      "250/250 [==============================] - 0s 902us/step - loss: 0.3561 - accuracy: 0.8546\n",
      "Epoch 89/100\n",
      "250/250 [==============================] - 0s 838us/step - loss: 0.3524 - accuracy: 0.8550\n",
      "Epoch 90/100\n",
      "250/250 [==============================] - 0s 766us/step - loss: 0.3496 - accuracy: 0.8549\n",
      "Epoch 91/100\n",
      "250/250 [==============================] - 0s 778us/step - loss: 0.3466 - accuracy: 0.8576\n",
      "Epoch 92/100\n",
      "250/250 [==============================] - 0s 776us/step - loss: 0.3444 - accuracy: 0.8591\n",
      "Epoch 93/100\n",
      "250/250 [==============================] - 0s 820us/step - loss: 0.3429 - accuracy: 0.8605\n",
      "Epoch 94/100\n",
      "250/250 [==============================] - 0s 863us/step - loss: 0.3415 - accuracy: 0.8587\n",
      "Epoch 95/100\n",
      "250/250 [==============================] - 0s 918us/step - loss: 0.3406 - accuracy: 0.8610\n",
      "Epoch 96/100\n",
      "250/250 [==============================] - 0s 767us/step - loss: 0.3396 - accuracy: 0.8611\n",
      "Epoch 97/100\n",
      "250/250 [==============================] - 0s 825us/step - loss: 0.3387 - accuracy: 0.8605\n",
      "Epoch 98/100\n",
      "250/250 [==============================] - 0s 830us/step - loss: 0.3381 - accuracy: 0.8616\n",
      "Epoch 99/100\n",
      "250/250 [==============================] - 0s 810us/step - loss: 0.3374 - accuracy: 0.8615\n",
      "Epoch 100/100\n",
      "250/250 [==============================] - 0s 837us/step - loss: 0.3370 - accuracy: 0.8622\n"
     ]
    },
    {
     "data": {
      "text/plain": [
       "<tensorflow.python.keras.callbacks.History at 0x1a9fa23e6d0>"
      ]
     },
     "execution_count": 13,
     "metadata": {},
     "output_type": "execute_result"
    }
   ],
   "source": [
    "ann.fit(x_train, y_train, batch_size=32, epochs= 100)"
   ]
  },
  {
   "cell_type": "markdown",
   "metadata": {},
   "source": [
    "# Making predictions and evaluating model"
   ]
  },
  {
   "cell_type": "markdown",
   "metadata": {},
   "source": [
    "Predicting result of single observation"
   ]
  },
  {
   "cell_type": "code",
   "execution_count": 14,
   "metadata": {},
   "outputs": [
    {
     "name": "stdout",
     "output_type": "stream",
     "text": [
      "[[False]]\n"
     ]
    }
   ],
   "source": [
    "print(ann.predict(sc.transform([[1,0,0,600,1,40, 3, 60000, 2, 1, 1, 50000]])) > 0.5) #Any input of predict method must be 2-D array. Predict method has to be applied on same scale of training data. So here scale the required observation here using sc\n",
    "\n",
    "#Since sigmoid is used as activation function in output layer, output is displayed in the form of probability. So here threshold of 0.5 is added to easily understand output"
   ]
  },
  {
   "cell_type": "markdown",
   "metadata": {},
   "source": [
    "Predicting test set results"
   ]
  },
  {
   "cell_type": "code",
   "execution_count": 15,
   "metadata": {},
   "outputs": [
    {
     "name": "stdout",
     "output_type": "stream",
     "text": [
      "[[0 0]\n",
      " [0 0]\n",
      " [0 0]\n",
      " ...\n",
      " [0 0]\n",
      " [0 0]\n",
      " [1 0]]\n"
     ]
    }
   ],
   "source": [
    "y_pred = ann.predict(x_test)\n",
    "y_pred = (y_pred > 0.5)\n",
    "#np.set_printoptions(precision=2) #To display any numeric value only to two decimal places\n",
    "print(np.concatenate((y_pred.reshape(len(y_pred),1), y_test.reshape(len(y_test),1)),1)) # To display real results of test set and predicted profits of test set side by side."
   ]
  },
  {
   "cell_type": "markdown",
   "metadata": {},
   "source": [
    "Making Confusion matrix"
   ]
  },
  {
   "cell_type": "code",
   "execution_count": 16,
   "metadata": {},
   "outputs": [
    {
     "name": "stdout",
     "output_type": "stream",
     "text": [
      "[[1515   70]\n",
      " [ 219  196]]\n"
     ]
    }
   ],
   "source": [
    "from sklearn.metrics import confusion_matrix, accuracy_score\n",
    "matrix = confusion_matrix(y_test, y_pred)\n",
    "print(matrix)"
   ]
  },
  {
   "cell_type": "code",
   "execution_count": 17,
   "metadata": {},
   "outputs": [
    {
     "data": {
      "text/plain": [
       "0.8555"
      ]
     },
     "execution_count": 17,
     "metadata": {},
     "output_type": "execute_result"
    }
   ],
   "source": [
    "accuracy_score(y_test, y_pred)"
   ]
  },
  {
   "cell_type": "code",
   "execution_count": null,
   "metadata": {},
   "outputs": [],
   "source": []
  }
 ],
 "metadata": {
  "kernelspec": {
   "display_name": "Python 3",
   "language": "python",
   "name": "python3"
  },
  "language_info": {
   "codemirror_mode": {
    "name": "ipython",
    "version": 3
   },
   "file_extension": ".py",
   "mimetype": "text/x-python",
   "name": "python",
   "nbconvert_exporter": "python",
   "pygments_lexer": "ipython3",
   "version": "3.8.6"
  }
 },
 "nbformat": 4,
 "nbformat_minor": 4
}
